{
 "cells": [
  {
   "cell_type": "code",
   "execution_count": 25,
   "id": "09463cea",
   "metadata": {},
   "outputs": [
    {
     "name": "stdout",
     "output_type": "stream",
     "text": [
      "102.2\n"
     ]
    }
   ],
   "source": [
    "def temperature(n):\n",
    "    return (n*9/5 +32)\n",
    "print(temperature(39))# in put the value here\n"
   ]
  },
  {
   "cell_type": "code",
   "execution_count": 31,
   "id": "8617d458",
   "metadata": {},
   "outputs": [
    {
     "name": "stdout",
     "output_type": "stream",
     "text": [
      "[0, 1, 1, 2, 3, 5]\n"
     ]
    }
   ],
   "source": [
    "def fibonacci(n):\n",
    "    fib_seq=[0,1]\n",
    "    for i in range (2,n):\n",
    "        fib_seq.append (fib_seq[-1]+fib_seq[-2])\n",
    "    return fib_seq[:n]\n",
    "print(fibonacci(6))  #input the value here   \n",
    "    "
   ]
  },
  {
   "cell_type": "code",
   "execution_count": 29,
   "id": "52aad25a",
   "metadata": {},
   "outputs": [
    {
     "name": "stdout",
     "output_type": "stream",
     "text": [
      "0\n",
      "15\n",
      "30\n",
      "45\n",
      "60\n",
      "75\n",
      "90\n"
     ]
    }
   ],
   "source": [
    "def divisible_by_3_and_5():\n",
    "    for i in range(101):  \n",
    "        if i % 3 == 0 and i % 5 == 0:  \n",
    "            print(i)\n",
    "\n",
    "\n",
    "divisible_by_3_and_5()\n"
   ]
  },
  {
   "cell_type": "code",
   "execution_count": null,
   "id": "c1754390",
   "metadata": {},
   "outputs": [],
   "source": []
  }
 ],
 "metadata": {
  "kernelspec": {
   "display_name": "Python 3 (ipykernel)",
   "language": "python",
   "name": "python3"
  },
  "language_info": {
   "codemirror_mode": {
    "name": "ipython",
    "version": 3
   },
   "file_extension": ".py",
   "mimetype": "text/x-python",
   "name": "python",
   "nbconvert_exporter": "python",
   "pygments_lexer": "ipython3",
   "version": "3.11.5"
  }
 },
 "nbformat": 4,
 "nbformat_minor": 5
}
